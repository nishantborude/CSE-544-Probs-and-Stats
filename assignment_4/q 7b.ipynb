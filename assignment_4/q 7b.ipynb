{
 "cells": [
  {
   "cell_type": "code",
   "execution_count": 17,
   "metadata": {},
   "outputs": [],
   "source": [
    "import numpy as np\n",
    "\n",
    "X = [.225, .262, .217, .240, .230, .229, .235, .217, .231, .250]\n",
    "Y = [.209, .205, .196, .210, .202, .207, .224, .223, .220, .201]"
   ]
  },
  {
   "cell_type": "code",
   "execution_count": 18,
   "metadata": {},
   "outputs": [],
   "source": [
    "T_obs = abs(np.mean(X) - np.mean(Y))"
   ]
  },
  {
   "cell_type": "code",
   "execution_count": 19,
   "metadata": {},
   "outputs": [],
   "source": [
    "perm = X + Y"
   ]
  },
  {
   "cell_type": "code",
   "execution_count": 21,
   "metadata": {},
   "outputs": [
    {
     "name": "stdout",
     "output_type": "stream",
     "text": [
      "0.000281\n",
      "Reject Null\n"
     ]
    }
   ],
   "source": [
    "count = 0\n",
    "n_fact = 1000000\n",
    "for _ in range(n_fact):\n",
    "    tmp = np.random.permutation(perm)\n",
    "    X_p = tmp[:len(X)]\n",
    "    Y_p = tmp[len(X):]\n",
    "    T_p = abs(np.mean(X_p) - np.mean(Y_p))\n",
    "    if T_p > T_obs:\n",
    "        count += 1\n",
    "p = count / n_fact\n",
    "print(p)\n",
    "\n",
    "if p <= 0.05:\n",
    "    print(\"Reject Null\")"
   ]
  }
 ],
 "metadata": {
  "kernelspec": {
   "display_name": "Python 3",
   "language": "python",
   "name": "python3"
  },
  "language_info": {
   "codemirror_mode": {
    "name": "ipython",
    "version": 3
   },
   "file_extension": ".py",
   "mimetype": "text/x-python",
   "name": "python",
   "nbconvert_exporter": "python",
   "pygments_lexer": "ipython3",
   "version": "3.6.4"
  }
 },
 "nbformat": 4,
 "nbformat_minor": 2
}
