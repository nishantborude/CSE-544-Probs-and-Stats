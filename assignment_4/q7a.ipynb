{
 "cells": [
  {
   "cell_type": "code",
   "execution_count": 7,
   "metadata": {
    "scrolled": true
   },
   "outputs": [
    {
     "name": "stdout",
     "output_type": "stream",
     "text": [
      "delta_hat =  0.023899999999999977\n",
      "Variance(X) = 0.00017844, Variance(Y) = 8.401e-05, Std Error = 0.005122987409705395\n",
      "w value =  4.66524667906111\n",
      "Reject Null\n",
      "p-value =  0.0\n",
      "Confidence Interval = [0.013858944676977403, 0.03394105532302255]\n"
     ]
    }
   ],
   "source": [
    "import numpy as np\n",
    "\n",
    "# Shakespeare's Sonnets:\n",
    "a = np.array([0.225, 0.262, 0.217, 0.240, 0.230, 0.229, 0.235, 0.217, 0.231, 0.250])\n",
    "\n",
    "# Marlowe's Sonnets:\n",
    "b = np.array([0.209, 0.205, 0.196, 0.210, 0.202, 0.207, 0.224, 0.223, 0.220, 0.201])\n",
    "\n",
    "# Converting to single population\n",
    "p1h = np.mean(a)\n",
    "p2h = np.mean(b)\n",
    "\n",
    "delta = p1h-p2h\n",
    "\n",
    "vx = (1.0/100)*(np.sum((a-p1h)**2))\n",
    "vy = (1.0/100)*(np.sum((b-p2h)**2))\n",
    "\n",
    "se = np.sqrt(vx + vy)\n",
    "\n",
    "# Applying Wald's Test\n",
    "W = abs(p1h - p2h)/se\n",
    "\n",
    "print(\"delta_hat = \", p1h -p2h)\n",
    "print(\"Variance(X) = {}, Variance(Y) = {}, Std Error = {}\".format(vx * 10, vy * 10, se))\n",
    "print(\"w value = \", W)\n",
    "\n",
    "if W > 1.962:\n",
    "    print(\"Reject Null\")\n",
    "else:\n",
    "    print(\"Accept Null\")\n",
    "    \n",
    "# Calc p value\n",
    "p = 0.00\n",
    "print(\"p-value = \", p)\n",
    "\n",
    "# 95% CI\n",
    "lower = delta + 1.96*se\n",
    "upper = delta - 1.96*se\n",
    "print(\"Confidence Interval = [{}, {}]\".format(upper, lower))"
   ]
  }
 ],
 "metadata": {
  "kernelspec": {
   "display_name": "Python 3",
   "language": "python",
   "name": "python3"
  },
  "language_info": {
   "codemirror_mode": {
    "name": "ipython",
    "version": 3
   },
   "file_extension": ".py",
   "mimetype": "text/x-python",
   "name": "python",
   "nbconvert_exporter": "python",
   "pygments_lexer": "ipython3",
   "version": "3.6.4"
  }
 },
 "nbformat": 4,
 "nbformat_minor": 2
}
