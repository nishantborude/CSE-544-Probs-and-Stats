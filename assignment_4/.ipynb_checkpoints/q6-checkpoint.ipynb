{
 "cells": [
  {
   "cell_type": "code",
   "execution_count": 93,
   "metadata": {},
   "outputs": [],
   "source": [
    "import numpy as np\n",
    "X = np.fromfile('q6_X.dat', sep = ',')\n",
    "Y = np.fromfile('q6_Y.dat', sep = ',')"
   ]
  },
  {
   "cell_type": "markdown",
   "metadata": {},
   "source": [
    "### Wald's Test"
   ]
  },
  {
   "cell_type": "code",
   "execution_count": 94,
   "metadata": {},
   "outputs": [],
   "source": [
    "def wald(X, Y):\n",
    "    p1_hat = sum(X) / len(X)\n",
    "    p2_hat = sum(Y) / len(Y)\n",
    "    t_sum = 0\n",
    "    for i in X:\n",
    "        t_sum += (i - p1_hat)**2\n",
    "    var_1 = t_sum / len(X)\n",
    "    t_sum = 0\n",
    "    for i in Y:\n",
    "        t_sum += (i - p2_hat)**2\n",
    "    var_2 = t_sum / len(X)\n",
    "    w = abs((p1_hat - p2_hat) / np.sqrt(var_1 + var_2))\n",
    "    if w > 1.96:\n",
    "        print('Reject Null')\n",
    "    else:\n",
    "        print('Accept Null')"
   ]
  },
  {
   "cell_type": "code",
   "execution_count": 95,
   "metadata": {},
   "outputs": [
    {
     "name": "stdout",
     "output_type": "stream",
     "text": [
      "Accept Null\n"
     ]
    }
   ],
   "source": [
    "wald(X, Y)"
   ]
  },
  {
   "cell_type": "markdown",
   "metadata": {},
   "source": [
    "### Welch's Test"
   ]
  },
  {
   "cell_type": "code",
   "execution_count": 101,
   "metadata": {},
   "outputs": [],
   "source": [
    "def welch(X, Y):\n",
    "    X_1 = sum(X) / len(X)\n",
    "    X_2 = sum(Y) / len(Y)\n",
    "    t_sum = 0\n",
    "    for i in X:\n",
    "        t_sum += (i - p1_hat)**2\n",
    "    var_1 = t_sum / len(X)\n",
    "    t_sum = 0\n",
    "    for i in Y:\n",
    "        t_sum += (i - p2_hat)**2\n",
    "    var_2 = t_sum / len(X)\n",
    "    t = abs((X_1 - X_2) / np.sqrt(var_1 + var_2))\n",
    "    if t > 1.96:\n",
    "        print('Reject Null')\n",
    "    else:\n",
    "        print('Accept Null')"
   ]
  },
  {
   "cell_type": "code",
   "execution_count": 103,
   "metadata": {},
   "outputs": [
    {
     "name": "stdout",
     "output_type": "stream",
     "text": [
      "Accept Null\n"
     ]
    }
   ],
   "source": [
    "welch(X, Y)"
   ]
  },
  {
   "cell_type": "markdown",
   "metadata": {},
   "source": [
    "### Paired-T"
   ]
  },
  {
   "cell_type": "code",
   "execution_count": 98,
   "metadata": {},
   "outputs": [],
   "source": [
    "def paired_t(D):\n",
    "    X_bar = sum(D) / len(D)\n",
    "    t_sum = 0\n",
    "    for i in D:\n",
    "        t_sum += (i - X_bar)**2\n",
    "    var_D = t_sum / len(D)\n",
    "    T = abs(X_bar / np.sqrt(var_D / len(D)))\n",
    "    if T > 1.962:\n",
    "        print('Reject Null')\n",
    "    else:\n",
    "        print('Accept Null')"
   ]
  },
  {
   "cell_type": "code",
   "execution_count": 99,
   "metadata": {},
   "outputs": [
    {
     "name": "stdout",
     "output_type": "stream",
     "text": [
      "Reject Null\n"
     ]
    }
   ],
   "source": [
    "paired_t(X - Y)"
   ]
  }
 ],
 "metadata": {
  "kernelspec": {
   "display_name": "Python 3",
   "language": "python",
   "name": "python3"
  },
  "language_info": {
   "codemirror_mode": {
    "name": "ipython",
    "version": 3
   },
   "file_extension": ".py",
   "mimetype": "text/x-python",
   "name": "python",
   "nbconvert_exporter": "python",
   "pygments_lexer": "ipython3",
   "version": "3.6.4"
  }
 },
 "nbformat": 4,
 "nbformat_minor": 2
}
